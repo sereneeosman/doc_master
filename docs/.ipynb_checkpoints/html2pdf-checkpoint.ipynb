{
 "cells": [
  {
   "cell_type": "code",
   "execution_count": 1,
   "id": "90d5a5f7-08f8-4018-8a01-328ba50c068f",
   "metadata": {},
   "outputs": [],
   "source": [
    "import pdfkit"
   ]
  },
  {
   "cell_type": "code",
   "execution_count": null,
   "id": "62b9a1bd-867e-4e62-bd56-2218ae754f6f",
   "metadata": {},
   "outputs": [],
   "source": [
    "html_file_path = 'C:\\SERENEE\\EGM722_coding\\Github\\sereneeosman_doc\\docs\\build\\html\\egm722_serenee\\NI_Tourist_Map_doc.html'"
   ]
  },
  {
   "cell_type": "code",
   "execution_count": null,
   "id": "d22358a0-45fb-4a69-b7e9-3b24763dfcd8",
   "metadata": {},
   "outputs": [],
   "source": [
    "pdf_file_path = 'C:\\SERENEE\\EGM722_coding\\Github\\sereneeosman_doc\\docs\\output.pdf'"
   ]
  }
 ],
 "metadata": {
  "kernelspec": {
   "display_name": "Python 3 (ipykernel)",
   "language": "python",
   "name": "python3"
  },
  "language_info": {
   "codemirror_mode": {
    "name": "ipython",
    "version": 3
   },
   "file_extension": ".py",
   "mimetype": "text/x-python",
   "name": "python",
   "nbconvert_exporter": "python",
   "pygments_lexer": "ipython3",
   "version": "3.12.0"
  }
 },
 "nbformat": 4,
 "nbformat_minor": 5
}
