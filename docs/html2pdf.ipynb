{
 "cells": [
  {
   "cell_type": "code",
   "execution_count": 1,
   "id": "90d5a5f7-08f8-4018-8a01-328ba50c068f",
   "metadata": {},
   "outputs": [],
   "source": [
    "import pdfkit"
   ]
  },
  {
   "cell_type": "code",
   "execution_count": 2,
   "id": "62b9a1bd-867e-4e62-bd56-2218ae754f6f",
   "metadata": {},
   "outputs": [],
   "source": [
    "html_file_path = '../build/html/egm722_serenee/NI_Tourist_Map_doc.html'"
   ]
  },
  {
   "cell_type": "code",
   "execution_count": 3,
   "id": "d22358a0-45fb-4a69-b7e9-3b24763dfcd8",
   "metadata": {},
   "outputs": [],
   "source": [
    "pdf_file_path = '../docs/output.pdf'"
   ]
  },
  {
   "cell_type": "code",
   "execution_count": null,
   "id": "4c4ff155-83b1-45ca-9320-5b78c499bae1",
   "metadata": {},
   "outputs": [],
   "source": []
  }
 ],
 "metadata": {
  "kernelspec": {
   "display_name": "Python 3 (ipykernel)",
   "language": "python",
   "name": "python3"
  },
  "language_info": {
   "codemirror_mode": {
    "name": "ipython",
    "version": 3
   },
   "file_extension": ".py",
   "mimetype": "text/x-python",
   "name": "python",
   "nbconvert_exporter": "python",
   "pygments_lexer": "ipython3",
   "version": "3.12.0"
  }
 },
 "nbformat": 4,
 "nbformat_minor": 5
}
